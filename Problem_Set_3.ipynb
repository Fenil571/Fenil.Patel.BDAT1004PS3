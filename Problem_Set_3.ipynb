{
  "nbformat": 4,
  "nbformat_minor": 0,
  "metadata": {
    "colab": {
      "provenance": []
    },
    "kernelspec": {
      "name": "python3",
      "display_name": "Python 3"
    },
    "language_info": {
      "name": "python"
    }
  },
  "cells": [
    {
      "cell_type": "markdown",
      "source": [
        "#Question 1: Occupations\n"
      ],
      "metadata": {
        "id": "Jj_TSbsNNwaH"
      }
    },
    {
      "cell_type": "code",
      "source": [
        "#Step 1. Import the necessary libraries\n",
        "import pandas as pd\n",
        "\n",
        "# Step 2: Import the dataset\n",
        "url = \"https://raw.githubusercontent.com/justmarkham/DAT8/master/data/u.user\"\n",
        "\n",
        "# Step 3: Load dataset into a variable `users`\n",
        "users = pd.read_csv(url, sep='|')\n",
        "users.head()\n"
      ],
      "metadata": {
        "colab": {
          "base_uri": "https://localhost:8080/",
          "height": 206
        },
        "id": "BNrA57Wt0s79",
        "outputId": "5e5c471c-ed0c-46de-d903-6d4aeb072790"
      },
      "execution_count": 35,
      "outputs": [
        {
          "output_type": "execute_result",
          "data": {
            "text/plain": [
              "   user_id  age gender  occupation zip_code\n",
              "0        1   24      M  technician    85711\n",
              "1        2   53      F       other    94043\n",
              "2        3   23      M      writer    32067\n",
              "3        4   24      M  technician    43537\n",
              "4        5   33      F       other    15213"
            ],
            "text/html": [
              "\n",
              "  <div id=\"df-802e435e-2f3d-4d3a-9caa-d41de0343a00\" class=\"colab-df-container\">\n",
              "    <div>\n",
              "<style scoped>\n",
              "    .dataframe tbody tr th:only-of-type {\n",
              "        vertical-align: middle;\n",
              "    }\n",
              "\n",
              "    .dataframe tbody tr th {\n",
              "        vertical-align: top;\n",
              "    }\n",
              "\n",
              "    .dataframe thead th {\n",
              "        text-align: right;\n",
              "    }\n",
              "</style>\n",
              "<table border=\"1\" class=\"dataframe\">\n",
              "  <thead>\n",
              "    <tr style=\"text-align: right;\">\n",
              "      <th></th>\n",
              "      <th>user_id</th>\n",
              "      <th>age</th>\n",
              "      <th>gender</th>\n",
              "      <th>occupation</th>\n",
              "      <th>zip_code</th>\n",
              "    </tr>\n",
              "  </thead>\n",
              "  <tbody>\n",
              "    <tr>\n",
              "      <th>0</th>\n",
              "      <td>1</td>\n",
              "      <td>24</td>\n",
              "      <td>M</td>\n",
              "      <td>technician</td>\n",
              "      <td>85711</td>\n",
              "    </tr>\n",
              "    <tr>\n",
              "      <th>1</th>\n",
              "      <td>2</td>\n",
              "      <td>53</td>\n",
              "      <td>F</td>\n",
              "      <td>other</td>\n",
              "      <td>94043</td>\n",
              "    </tr>\n",
              "    <tr>\n",
              "      <th>2</th>\n",
              "      <td>3</td>\n",
              "      <td>23</td>\n",
              "      <td>M</td>\n",
              "      <td>writer</td>\n",
              "      <td>32067</td>\n",
              "    </tr>\n",
              "    <tr>\n",
              "      <th>3</th>\n",
              "      <td>4</td>\n",
              "      <td>24</td>\n",
              "      <td>M</td>\n",
              "      <td>technician</td>\n",
              "      <td>43537</td>\n",
              "    </tr>\n",
              "    <tr>\n",
              "      <th>4</th>\n",
              "      <td>5</td>\n",
              "      <td>33</td>\n",
              "      <td>F</td>\n",
              "      <td>other</td>\n",
              "      <td>15213</td>\n",
              "    </tr>\n",
              "  </tbody>\n",
              "</table>\n",
              "</div>\n",
              "    <div class=\"colab-df-buttons\">\n",
              "\n",
              "  <div class=\"colab-df-container\">\n",
              "    <button class=\"colab-df-convert\" onclick=\"convertToInteractive('df-802e435e-2f3d-4d3a-9caa-d41de0343a00')\"\n",
              "            title=\"Convert this dataframe to an interactive table.\"\n",
              "            style=\"display:none;\">\n",
              "\n",
              "  <svg xmlns=\"http://www.w3.org/2000/svg\" height=\"24px\" viewBox=\"0 -960 960 960\">\n",
              "    <path d=\"M120-120v-720h720v720H120Zm60-500h600v-160H180v160Zm220 220h160v-160H400v160Zm0 220h160v-160H400v160ZM180-400h160v-160H180v160Zm440 0h160v-160H620v160ZM180-180h160v-160H180v160Zm440 0h160v-160H620v160Z\"/>\n",
              "  </svg>\n",
              "    </button>\n",
              "\n",
              "  <style>\n",
              "    .colab-df-container {\n",
              "      display:flex;\n",
              "      gap: 12px;\n",
              "    }\n",
              "\n",
              "    .colab-df-convert {\n",
              "      background-color: #E8F0FE;\n",
              "      border: none;\n",
              "      border-radius: 50%;\n",
              "      cursor: pointer;\n",
              "      display: none;\n",
              "      fill: #1967D2;\n",
              "      height: 32px;\n",
              "      padding: 0 0 0 0;\n",
              "      width: 32px;\n",
              "    }\n",
              "\n",
              "    .colab-df-convert:hover {\n",
              "      background-color: #E2EBFA;\n",
              "      box-shadow: 0px 1px 2px rgba(60, 64, 67, 0.3), 0px 1px 3px 1px rgba(60, 64, 67, 0.15);\n",
              "      fill: #174EA6;\n",
              "    }\n",
              "\n",
              "    .colab-df-buttons div {\n",
              "      margin-bottom: 4px;\n",
              "    }\n",
              "\n",
              "    [theme=dark] .colab-df-convert {\n",
              "      background-color: #3B4455;\n",
              "      fill: #D2E3FC;\n",
              "    }\n",
              "\n",
              "    [theme=dark] .colab-df-convert:hover {\n",
              "      background-color: #434B5C;\n",
              "      box-shadow: 0px 1px 3px 1px rgba(0, 0, 0, 0.15);\n",
              "      filter: drop-shadow(0px 1px 2px rgba(0, 0, 0, 0.3));\n",
              "      fill: #FFFFFF;\n",
              "    }\n",
              "  </style>\n",
              "\n",
              "    <script>\n",
              "      const buttonEl =\n",
              "        document.querySelector('#df-802e435e-2f3d-4d3a-9caa-d41de0343a00 button.colab-df-convert');\n",
              "      buttonEl.style.display =\n",
              "        google.colab.kernel.accessAllowed ? 'block' : 'none';\n",
              "\n",
              "      async function convertToInteractive(key) {\n",
              "        const element = document.querySelector('#df-802e435e-2f3d-4d3a-9caa-d41de0343a00');\n",
              "        const dataTable =\n",
              "          await google.colab.kernel.invokeFunction('convertToInteractive',\n",
              "                                                    [key], {});\n",
              "        if (!dataTable) return;\n",
              "\n",
              "        const docLinkHtml = 'Like what you see? Visit the ' +\n",
              "          '<a target=\"_blank\" href=https://colab.research.google.com/notebooks/data_table.ipynb>data table notebook</a>'\n",
              "          + ' to learn more about interactive tables.';\n",
              "        element.innerHTML = '';\n",
              "        dataTable['output_type'] = 'display_data';\n",
              "        await google.colab.output.renderOutput(dataTable, element);\n",
              "        const docLink = document.createElement('div');\n",
              "        docLink.innerHTML = docLinkHtml;\n",
              "        element.appendChild(docLink);\n",
              "      }\n",
              "    </script>\n",
              "  </div>\n",
              "\n",
              "\n",
              "<div id=\"df-5ce5a963-984e-4143-9cae-46a454db18c4\">\n",
              "  <button class=\"colab-df-quickchart\" onclick=\"quickchart('df-5ce5a963-984e-4143-9cae-46a454db18c4')\"\n",
              "            title=\"Suggest charts\"\n",
              "            style=\"display:none;\">\n",
              "\n",
              "<svg xmlns=\"http://www.w3.org/2000/svg\" height=\"24px\"viewBox=\"0 0 24 24\"\n",
              "     width=\"24px\">\n",
              "    <g>\n",
              "        <path d=\"M19 3H5c-1.1 0-2 .9-2 2v14c0 1.1.9 2 2 2h14c1.1 0 2-.9 2-2V5c0-1.1-.9-2-2-2zM9 17H7v-7h2v7zm4 0h-2V7h2v10zm4 0h-2v-4h2v4z\"/>\n",
              "    </g>\n",
              "</svg>\n",
              "  </button>\n",
              "\n",
              "<style>\n",
              "  .colab-df-quickchart {\n",
              "      --bg-color: #E8F0FE;\n",
              "      --fill-color: #1967D2;\n",
              "      --hover-bg-color: #E2EBFA;\n",
              "      --hover-fill-color: #174EA6;\n",
              "      --disabled-fill-color: #AAA;\n",
              "      --disabled-bg-color: #DDD;\n",
              "  }\n",
              "\n",
              "  [theme=dark] .colab-df-quickchart {\n",
              "      --bg-color: #3B4455;\n",
              "      --fill-color: #D2E3FC;\n",
              "      --hover-bg-color: #434B5C;\n",
              "      --hover-fill-color: #FFFFFF;\n",
              "      --disabled-bg-color: #3B4455;\n",
              "      --disabled-fill-color: #666;\n",
              "  }\n",
              "\n",
              "  .colab-df-quickchart {\n",
              "    background-color: var(--bg-color);\n",
              "    border: none;\n",
              "    border-radius: 50%;\n",
              "    cursor: pointer;\n",
              "    display: none;\n",
              "    fill: var(--fill-color);\n",
              "    height: 32px;\n",
              "    padding: 0;\n",
              "    width: 32px;\n",
              "  }\n",
              "\n",
              "  .colab-df-quickchart:hover {\n",
              "    background-color: var(--hover-bg-color);\n",
              "    box-shadow: 0 1px 2px rgba(60, 64, 67, 0.3), 0 1px 3px 1px rgba(60, 64, 67, 0.15);\n",
              "    fill: var(--button-hover-fill-color);\n",
              "  }\n",
              "\n",
              "  .colab-df-quickchart-complete:disabled,\n",
              "  .colab-df-quickchart-complete:disabled:hover {\n",
              "    background-color: var(--disabled-bg-color);\n",
              "    fill: var(--disabled-fill-color);\n",
              "    box-shadow: none;\n",
              "  }\n",
              "\n",
              "  .colab-df-spinner {\n",
              "    border: 2px solid var(--fill-color);\n",
              "    border-color: transparent;\n",
              "    border-bottom-color: var(--fill-color);\n",
              "    animation:\n",
              "      spin 1s steps(1) infinite;\n",
              "  }\n",
              "\n",
              "  @keyframes spin {\n",
              "    0% {\n",
              "      border-color: transparent;\n",
              "      border-bottom-color: var(--fill-color);\n",
              "      border-left-color: var(--fill-color);\n",
              "    }\n",
              "    20% {\n",
              "      border-color: transparent;\n",
              "      border-left-color: var(--fill-color);\n",
              "      border-top-color: var(--fill-color);\n",
              "    }\n",
              "    30% {\n",
              "      border-color: transparent;\n",
              "      border-left-color: var(--fill-color);\n",
              "      border-top-color: var(--fill-color);\n",
              "      border-right-color: var(--fill-color);\n",
              "    }\n",
              "    40% {\n",
              "      border-color: transparent;\n",
              "      border-right-color: var(--fill-color);\n",
              "      border-top-color: var(--fill-color);\n",
              "    }\n",
              "    60% {\n",
              "      border-color: transparent;\n",
              "      border-right-color: var(--fill-color);\n",
              "    }\n",
              "    80% {\n",
              "      border-color: transparent;\n",
              "      border-right-color: var(--fill-color);\n",
              "      border-bottom-color: var(--fill-color);\n",
              "    }\n",
              "    90% {\n",
              "      border-color: transparent;\n",
              "      border-bottom-color: var(--fill-color);\n",
              "    }\n",
              "  }\n",
              "</style>\n",
              "\n",
              "  <script>\n",
              "    async function quickchart(key) {\n",
              "      const quickchartButtonEl =\n",
              "        document.querySelector('#' + key + ' button');\n",
              "      quickchartButtonEl.disabled = true;  // To prevent multiple clicks.\n",
              "      quickchartButtonEl.classList.add('colab-df-spinner');\n",
              "      try {\n",
              "        const charts = await google.colab.kernel.invokeFunction(\n",
              "            'suggestCharts', [key], {});\n",
              "      } catch (error) {\n",
              "        console.error('Error during call to suggestCharts:', error);\n",
              "      }\n",
              "      quickchartButtonEl.classList.remove('colab-df-spinner');\n",
              "      quickchartButtonEl.classList.add('colab-df-quickchart-complete');\n",
              "    }\n",
              "    (() => {\n",
              "      let quickchartButtonEl =\n",
              "        document.querySelector('#df-5ce5a963-984e-4143-9cae-46a454db18c4 button');\n",
              "      quickchartButtonEl.style.display =\n",
              "        google.colab.kernel.accessAllowed ? 'block' : 'none';\n",
              "    })();\n",
              "  </script>\n",
              "</div>\n",
              "\n",
              "    </div>\n",
              "  </div>\n"
            ],
            "application/vnd.google.colaboratory.intrinsic+json": {
              "type": "dataframe",
              "variable_name": "users",
              "summary": "{\n  \"name\": \"users\",\n  \"rows\": 943,\n  \"fields\": [\n    {\n      \"column\": \"user_id\",\n      \"properties\": {\n        \"dtype\": \"number\",\n        \"std\": 272,\n        \"min\": 1,\n        \"max\": 943,\n        \"num_unique_values\": 943,\n        \"samples\": [\n          97,\n          266,\n          811\n        ],\n        \"semantic_type\": \"\",\n        \"description\": \"\"\n      }\n    },\n    {\n      \"column\": \"age\",\n      \"properties\": {\n        \"dtype\": \"number\",\n        \"std\": 12,\n        \"min\": 7,\n        \"max\": 73,\n        \"num_unique_values\": 61,\n        \"samples\": [\n          24,\n          57,\n          52\n        ],\n        \"semantic_type\": \"\",\n        \"description\": \"\"\n      }\n    },\n    {\n      \"column\": \"gender\",\n      \"properties\": {\n        \"dtype\": \"category\",\n        \"num_unique_values\": 2,\n        \"samples\": [\n          \"F\",\n          \"M\"\n        ],\n        \"semantic_type\": \"\",\n        \"description\": \"\"\n      }\n    },\n    {\n      \"column\": \"occupation\",\n      \"properties\": {\n        \"dtype\": \"category\",\n        \"num_unique_values\": 21,\n        \"samples\": [\n          \"technician\",\n          \"healthcare\"\n        ],\n        \"semantic_type\": \"\",\n        \"description\": \"\"\n      }\n    },\n    {\n      \"column\": \"zip_code\",\n      \"properties\": {\n        \"dtype\": \"string\",\n        \"num_unique_values\": 795,\n        \"samples\": [\n          \"90016\",\n          \"15232\"\n        ],\n        \"semantic_type\": \"\",\n        \"description\": \"\"\n      }\n    }\n  ]\n}"
            }
          },
          "metadata": {},
          "execution_count": 35
        }
      ]
    },
    {
      "cell_type": "code",
      "source": [
        "#Step 4: Mean age per occupation\n",
        "# Calculate mean age per occupation\n",
        "mean_age_per_occupation = users.groupby('occupation')['age'].mean()\n",
        "print(mean_age_per_occupation)\n"
      ],
      "metadata": {
        "colab": {
          "base_uri": "https://localhost:8080/"
        },
        "id": "77d-zZa20wNt",
        "outputId": "566ba6da-2e3d-4775-ef19-f2c91afdd3fd"
      },
      "execution_count": 37,
      "outputs": [
        {
          "output_type": "stream",
          "name": "stdout",
          "text": [
            "occupation\n",
            "administrator    38.746835\n",
            "artist           31.392857\n",
            "doctor           43.571429\n",
            "educator         42.010526\n",
            "engineer         36.388060\n",
            "entertainment    29.222222\n",
            "executive        38.718750\n",
            "healthcare       41.562500\n",
            "homemaker        32.571429\n",
            "lawyer           36.750000\n",
            "librarian        40.000000\n",
            "marketing        37.615385\n",
            "none             26.555556\n",
            "other            34.523810\n",
            "programmer       33.121212\n",
            "retired          63.071429\n",
            "salesman         35.666667\n",
            "scientist        35.548387\n",
            "student          22.081633\n",
            "technician       33.148148\n",
            "writer           36.311111\n",
            "Name: age, dtype: float64\n"
          ]
        }
      ]
    },
    {
      "cell_type": "code",
      "source": [
        "#Step 5: Male ratio per occupation (sorted descending)\n",
        "# Calculate Male ratio per occupation\n",
        "users['is_male'] = users['gender'] == 'M'\n",
        "male_ratio = users.groupby('occupation')['is_male'].mean().sort_values(ascending=False)\n",
        "print(male_ratio)"
      ],
      "metadata": {
        "colab": {
          "base_uri": "https://localhost:8080/"
        },
        "id": "OZEVm0tz036I",
        "outputId": "fae0f94e-e532-42da-cb81-5478abbe650b"
      },
      "execution_count": 38,
      "outputs": [
        {
          "output_type": "stream",
          "name": "stdout",
          "text": [
            "occupation\n",
            "doctor           1.000000\n",
            "engineer         0.970149\n",
            "technician       0.962963\n",
            "retired          0.928571\n",
            "programmer       0.909091\n",
            "executive        0.906250\n",
            "scientist        0.903226\n",
            "entertainment    0.888889\n",
            "lawyer           0.833333\n",
            "salesman         0.750000\n",
            "educator         0.726316\n",
            "student          0.693878\n",
            "other            0.657143\n",
            "marketing        0.615385\n",
            "writer           0.577778\n",
            "none             0.555556\n",
            "administrator    0.544304\n",
            "artist           0.535714\n",
            "librarian        0.431373\n",
            "healthcare       0.312500\n",
            "homemaker        0.142857\n",
            "Name: is_male, dtype: float64\n"
          ]
        }
      ]
    },
    {
      "cell_type": "code",
      "source": [
        "#Step 6: Minimum and maximum ages per occupation\n",
        "# Minimum and maximum ages per occupation\n",
        "age_min_max = users.groupby('occupation')['age'].agg(['min', 'max'])\n",
        "print(age_min_max)\n"
      ],
      "metadata": {
        "colab": {
          "base_uri": "https://localhost:8080/"
        },
        "id": "BDIZ0jgN1BPH",
        "outputId": "f32ebc3c-9ec6-4b4b-8d6c-54aa4537e811"
      },
      "execution_count": 39,
      "outputs": [
        {
          "output_type": "stream",
          "name": "stdout",
          "text": [
            "               min  max\n",
            "occupation             \n",
            "administrator   21   70\n",
            "artist          19   48\n",
            "doctor          28   64\n",
            "educator        23   63\n",
            "engineer        22   70\n",
            "entertainment   15   50\n",
            "executive       22   69\n",
            "healthcare      22   62\n",
            "homemaker       20   50\n",
            "lawyer          21   53\n",
            "librarian       23   69\n",
            "marketing       24   55\n",
            "none            11   55\n",
            "other           13   64\n",
            "programmer      20   63\n",
            "retired         51   73\n",
            "salesman        18   66\n",
            "scientist       23   55\n",
            "student          7   42\n",
            "technician      21   55\n",
            "writer          18   60\n"
          ]
        }
      ]
    },
    {
      "cell_type": "code",
      "source": [
        "#Step 7: Mean age per occupation and gender\n",
        "# Mean age per occupation and gender\n",
        "mean_age_occupation_gender = users.groupby(['occupation', 'gender'])['age'].mean()\n",
        "print(mean_age_occupation_gender)\n"
      ],
      "metadata": {
        "colab": {
          "base_uri": "https://localhost:8080/"
        },
        "id": "lEmictZa1DsM",
        "outputId": "71f723ea-7648-4e42-a301-c90be9b2fe27"
      },
      "execution_count": 40,
      "outputs": [
        {
          "output_type": "stream",
          "name": "stdout",
          "text": [
            "occupation     gender\n",
            "administrator  F         40.638889\n",
            "               M         37.162791\n",
            "artist         F         30.307692\n",
            "               M         32.333333\n",
            "doctor         M         43.571429\n",
            "educator       F         39.115385\n",
            "               M         43.101449\n",
            "engineer       F         29.500000\n",
            "               M         36.600000\n",
            "entertainment  F         31.000000\n",
            "               M         29.000000\n",
            "executive      F         44.000000\n",
            "               M         38.172414\n",
            "healthcare     F         39.818182\n",
            "               M         45.400000\n",
            "homemaker      F         34.166667\n",
            "               M         23.000000\n",
            "lawyer         F         39.500000\n",
            "               M         36.200000\n",
            "librarian      F         40.000000\n",
            "               M         40.000000\n",
            "marketing      F         37.200000\n",
            "               M         37.875000\n",
            "none           F         36.500000\n",
            "               M         18.600000\n",
            "other          F         35.472222\n",
            "               M         34.028986\n",
            "programmer     F         32.166667\n",
            "               M         33.216667\n",
            "retired        F         70.000000\n",
            "               M         62.538462\n",
            "salesman       F         27.000000\n",
            "               M         38.555556\n",
            "scientist      F         28.333333\n",
            "               M         36.321429\n",
            "student        F         20.750000\n",
            "               M         22.669118\n",
            "technician     F         38.000000\n",
            "               M         32.961538\n",
            "writer         F         37.631579\n",
            "               M         35.346154\n",
            "Name: age, dtype: float64\n"
          ]
        }
      ]
    },
    {
      "cell_type": "code",
      "source": [
        "#Step 8: Percentage of men and women per occupation\n",
        "# Percentage of men and women per occupation\n",
        "gender_counts = users.groupby('occupation')['gender'].value_counts(normalize=True).unstack()\n",
        "print(gender_counts * 100)\n"
      ],
      "metadata": {
        "colab": {
          "base_uri": "https://localhost:8080/"
        },
        "id": "J3vDLNIZ1FfW",
        "outputId": "2d3c71a6-f1b5-43ed-8754-9ea73e6682f3"
      },
      "execution_count": 41,
      "outputs": [
        {
          "output_type": "stream",
          "name": "stdout",
          "text": [
            "gender                 F           M\n",
            "occupation                          \n",
            "administrator  45.569620   54.430380\n",
            "artist         46.428571   53.571429\n",
            "doctor               NaN  100.000000\n",
            "educator       27.368421   72.631579\n",
            "engineer        2.985075   97.014925\n",
            "entertainment  11.111111   88.888889\n",
            "executive       9.375000   90.625000\n",
            "healthcare     68.750000   31.250000\n",
            "homemaker      85.714286   14.285714\n",
            "lawyer         16.666667   83.333333\n",
            "librarian      56.862745   43.137255\n",
            "marketing      38.461538   61.538462\n",
            "none           44.444444   55.555556\n",
            "other          34.285714   65.714286\n",
            "programmer      9.090909   90.909091\n",
            "retired         7.142857   92.857143\n",
            "salesman       25.000000   75.000000\n",
            "scientist       9.677419   90.322581\n",
            "student        30.612245   69.387755\n",
            "technician      3.703704   96.296296\n",
            "writer         42.222222   57.777778\n"
          ]
        }
      ]
    },
    {
      "cell_type": "markdown",
      "source": [
        "#Question 2: Euro Teams"
      ],
      "metadata": {
        "id": "dM6KtRh41hNY"
      }
    },
    {
      "cell_type": "code",
      "source": [
        "#Step 1: Import Necessary Libraries\n",
        "import pandas as pd\n"
      ],
      "metadata": {
        "id": "0s5osfbU1HZH"
      },
      "execution_count": 42,
      "outputs": []
    },
    {
      "cell_type": "code",
      "source": [
        "#Step 2: Load the Dataset\n",
        "url = \"https://raw.githubusercontent.com/guipsamora/pandas_exercises/master/02_Filtering_%26_Sorting/Euro12/Euro_2012_stats_TEAM.csv\"\n",
        "euro12 = pd.read_csv(url)\n",
        "euro12.head()\n"
      ],
      "metadata": {
        "colab": {
          "base_uri": "https://localhost:8080/",
          "height": 325
        },
        "id": "tpYzNr2q1s8G",
        "outputId": "8e6cda6c-b2cc-4a93-9cbd-c28e81e2281a"
      },
      "execution_count": 43,
      "outputs": [
        {
          "output_type": "execute_result",
          "data": {
            "text/plain": [
              "             Team  Goals  Shots on target  Shots off target Shooting Accuracy  \\\n",
              "0         Croatia      4               13                12             51.9%   \n",
              "1  Czech Republic      4               13                18             41.9%   \n",
              "2         Denmark      4               10                10             50.0%   \n",
              "3         England      5               11                18             50.0%   \n",
              "4          France      3               22                24             37.9%   \n",
              "\n",
              "  % Goals-to-shots  Total shots (inc. Blocked)  Hit Woodwork  Penalty goals  \\\n",
              "0            16.0%                          32             0              0   \n",
              "1            12.9%                          39             0              0   \n",
              "2            20.0%                          27             1              0   \n",
              "3            17.2%                          40             0              0   \n",
              "4             6.5%                          65             1              0   \n",
              "\n",
              "   Penalties not scored  ...  Saves made  Saves-to-shots ratio  Fouls Won  \\\n",
              "0                     0  ...          13                 81.3%         41   \n",
              "1                     0  ...           9                 60.1%         53   \n",
              "2                     0  ...          10                 66.7%         25   \n",
              "3                     0  ...          22                 88.1%         43   \n",
              "4                     0  ...           6                 54.6%         36   \n",
              "\n",
              "  Fouls Conceded  Offsides  Yellow Cards  Red Cards  Subs on  Subs off  \\\n",
              "0             62         2             9          0        9         9   \n",
              "1             73         8             7          0       11        11   \n",
              "2             38         8             4          0        7         7   \n",
              "3             45         6             5          0       11        11   \n",
              "4             51         5             6          0       11        11   \n",
              "\n",
              "   Players Used  \n",
              "0            16  \n",
              "1            19  \n",
              "2            15  \n",
              "3            16  \n",
              "4            19  \n",
              "\n",
              "[5 rows x 35 columns]"
            ],
            "text/html": [
              "\n",
              "  <div id=\"df-eb1485d3-14f7-45a6-b5ea-98dbe2f42798\" class=\"colab-df-container\">\n",
              "    <div>\n",
              "<style scoped>\n",
              "    .dataframe tbody tr th:only-of-type {\n",
              "        vertical-align: middle;\n",
              "    }\n",
              "\n",
              "    .dataframe tbody tr th {\n",
              "        vertical-align: top;\n",
              "    }\n",
              "\n",
              "    .dataframe thead th {\n",
              "        text-align: right;\n",
              "    }\n",
              "</style>\n",
              "<table border=\"1\" class=\"dataframe\">\n",
              "  <thead>\n",
              "    <tr style=\"text-align: right;\">\n",
              "      <th></th>\n",
              "      <th>Team</th>\n",
              "      <th>Goals</th>\n",
              "      <th>Shots on target</th>\n",
              "      <th>Shots off target</th>\n",
              "      <th>Shooting Accuracy</th>\n",
              "      <th>% Goals-to-shots</th>\n",
              "      <th>Total shots (inc. Blocked)</th>\n",
              "      <th>Hit Woodwork</th>\n",
              "      <th>Penalty goals</th>\n",
              "      <th>Penalties not scored</th>\n",
              "      <th>...</th>\n",
              "      <th>Saves made</th>\n",
              "      <th>Saves-to-shots ratio</th>\n",
              "      <th>Fouls Won</th>\n",
              "      <th>Fouls Conceded</th>\n",
              "      <th>Offsides</th>\n",
              "      <th>Yellow Cards</th>\n",
              "      <th>Red Cards</th>\n",
              "      <th>Subs on</th>\n",
              "      <th>Subs off</th>\n",
              "      <th>Players Used</th>\n",
              "    </tr>\n",
              "  </thead>\n",
              "  <tbody>\n",
              "    <tr>\n",
              "      <th>0</th>\n",
              "      <td>Croatia</td>\n",
              "      <td>4</td>\n",
              "      <td>13</td>\n",
              "      <td>12</td>\n",
              "      <td>51.9%</td>\n",
              "      <td>16.0%</td>\n",
              "      <td>32</td>\n",
              "      <td>0</td>\n",
              "      <td>0</td>\n",
              "      <td>0</td>\n",
              "      <td>...</td>\n",
              "      <td>13</td>\n",
              "      <td>81.3%</td>\n",
              "      <td>41</td>\n",
              "      <td>62</td>\n",
              "      <td>2</td>\n",
              "      <td>9</td>\n",
              "      <td>0</td>\n",
              "      <td>9</td>\n",
              "      <td>9</td>\n",
              "      <td>16</td>\n",
              "    </tr>\n",
              "    <tr>\n",
              "      <th>1</th>\n",
              "      <td>Czech Republic</td>\n",
              "      <td>4</td>\n",
              "      <td>13</td>\n",
              "      <td>18</td>\n",
              "      <td>41.9%</td>\n",
              "      <td>12.9%</td>\n",
              "      <td>39</td>\n",
              "      <td>0</td>\n",
              "      <td>0</td>\n",
              "      <td>0</td>\n",
              "      <td>...</td>\n",
              "      <td>9</td>\n",
              "      <td>60.1%</td>\n",
              "      <td>53</td>\n",
              "      <td>73</td>\n",
              "      <td>8</td>\n",
              "      <td>7</td>\n",
              "      <td>0</td>\n",
              "      <td>11</td>\n",
              "      <td>11</td>\n",
              "      <td>19</td>\n",
              "    </tr>\n",
              "    <tr>\n",
              "      <th>2</th>\n",
              "      <td>Denmark</td>\n",
              "      <td>4</td>\n",
              "      <td>10</td>\n",
              "      <td>10</td>\n",
              "      <td>50.0%</td>\n",
              "      <td>20.0%</td>\n",
              "      <td>27</td>\n",
              "      <td>1</td>\n",
              "      <td>0</td>\n",
              "      <td>0</td>\n",
              "      <td>...</td>\n",
              "      <td>10</td>\n",
              "      <td>66.7%</td>\n",
              "      <td>25</td>\n",
              "      <td>38</td>\n",
              "      <td>8</td>\n",
              "      <td>4</td>\n",
              "      <td>0</td>\n",
              "      <td>7</td>\n",
              "      <td>7</td>\n",
              "      <td>15</td>\n",
              "    </tr>\n",
              "    <tr>\n",
              "      <th>3</th>\n",
              "      <td>England</td>\n",
              "      <td>5</td>\n",
              "      <td>11</td>\n",
              "      <td>18</td>\n",
              "      <td>50.0%</td>\n",
              "      <td>17.2%</td>\n",
              "      <td>40</td>\n",
              "      <td>0</td>\n",
              "      <td>0</td>\n",
              "      <td>0</td>\n",
              "      <td>...</td>\n",
              "      <td>22</td>\n",
              "      <td>88.1%</td>\n",
              "      <td>43</td>\n",
              "      <td>45</td>\n",
              "      <td>6</td>\n",
              "      <td>5</td>\n",
              "      <td>0</td>\n",
              "      <td>11</td>\n",
              "      <td>11</td>\n",
              "      <td>16</td>\n",
              "    </tr>\n",
              "    <tr>\n",
              "      <th>4</th>\n",
              "      <td>France</td>\n",
              "      <td>3</td>\n",
              "      <td>22</td>\n",
              "      <td>24</td>\n",
              "      <td>37.9%</td>\n",
              "      <td>6.5%</td>\n",
              "      <td>65</td>\n",
              "      <td>1</td>\n",
              "      <td>0</td>\n",
              "      <td>0</td>\n",
              "      <td>...</td>\n",
              "      <td>6</td>\n",
              "      <td>54.6%</td>\n",
              "      <td>36</td>\n",
              "      <td>51</td>\n",
              "      <td>5</td>\n",
              "      <td>6</td>\n",
              "      <td>0</td>\n",
              "      <td>11</td>\n",
              "      <td>11</td>\n",
              "      <td>19</td>\n",
              "    </tr>\n",
              "  </tbody>\n",
              "</table>\n",
              "<p>5 rows × 35 columns</p>\n",
              "</div>\n",
              "    <div class=\"colab-df-buttons\">\n",
              "\n",
              "  <div class=\"colab-df-container\">\n",
              "    <button class=\"colab-df-convert\" onclick=\"convertToInteractive('df-eb1485d3-14f7-45a6-b5ea-98dbe2f42798')\"\n",
              "            title=\"Convert this dataframe to an interactive table.\"\n",
              "            style=\"display:none;\">\n",
              "\n",
              "  <svg xmlns=\"http://www.w3.org/2000/svg\" height=\"24px\" viewBox=\"0 -960 960 960\">\n",
              "    <path d=\"M120-120v-720h720v720H120Zm60-500h600v-160H180v160Zm220 220h160v-160H400v160Zm0 220h160v-160H400v160ZM180-400h160v-160H180v160Zm440 0h160v-160H620v160ZM180-180h160v-160H180v160Zm440 0h160v-160H620v160Z\"/>\n",
              "  </svg>\n",
              "    </button>\n",
              "\n",
              "  <style>\n",
              "    .colab-df-container {\n",
              "      display:flex;\n",
              "      gap: 12px;\n",
              "    }\n",
              "\n",
              "    .colab-df-convert {\n",
              "      background-color: #E8F0FE;\n",
              "      border: none;\n",
              "      border-radius: 50%;\n",
              "      cursor: pointer;\n",
              "      display: none;\n",
              "      fill: #1967D2;\n",
              "      height: 32px;\n",
              "      padding: 0 0 0 0;\n",
              "      width: 32px;\n",
              "    }\n",
              "\n",
              "    .colab-df-convert:hover {\n",
              "      background-color: #E2EBFA;\n",
              "      box-shadow: 0px 1px 2px rgba(60, 64, 67, 0.3), 0px 1px 3px 1px rgba(60, 64, 67, 0.15);\n",
              "      fill: #174EA6;\n",
              "    }\n",
              "\n",
              "    .colab-df-buttons div {\n",
              "      margin-bottom: 4px;\n",
              "    }\n",
              "\n",
              "    [theme=dark] .colab-df-convert {\n",
              "      background-color: #3B4455;\n",
              "      fill: #D2E3FC;\n",
              "    }\n",
              "\n",
              "    [theme=dark] .colab-df-convert:hover {\n",
              "      background-color: #434B5C;\n",
              "      box-shadow: 0px 1px 3px 1px rgba(0, 0, 0, 0.15);\n",
              "      filter: drop-shadow(0px 1px 2px rgba(0, 0, 0, 0.3));\n",
              "      fill: #FFFFFF;\n",
              "    }\n",
              "  </style>\n",
              "\n",
              "    <script>\n",
              "      const buttonEl =\n",
              "        document.querySelector('#df-eb1485d3-14f7-45a6-b5ea-98dbe2f42798 button.colab-df-convert');\n",
              "      buttonEl.style.display =\n",
              "        google.colab.kernel.accessAllowed ? 'block' : 'none';\n",
              "\n",
              "      async function convertToInteractive(key) {\n",
              "        const element = document.querySelector('#df-eb1485d3-14f7-45a6-b5ea-98dbe2f42798');\n",
              "        const dataTable =\n",
              "          await google.colab.kernel.invokeFunction('convertToInteractive',\n",
              "                                                    [key], {});\n",
              "        if (!dataTable) return;\n",
              "\n",
              "        const docLinkHtml = 'Like what you see? Visit the ' +\n",
              "          '<a target=\"_blank\" href=https://colab.research.google.com/notebooks/data_table.ipynb>data table notebook</a>'\n",
              "          + ' to learn more about interactive tables.';\n",
              "        element.innerHTML = '';\n",
              "        dataTable['output_type'] = 'display_data';\n",
              "        await google.colab.output.renderOutput(dataTable, element);\n",
              "        const docLink = document.createElement('div');\n",
              "        docLink.innerHTML = docLinkHtml;\n",
              "        element.appendChild(docLink);\n",
              "      }\n",
              "    </script>\n",
              "  </div>\n",
              "\n",
              "\n",
              "<div id=\"df-b4819621-3126-430c-b4b2-abbea28abafe\">\n",
              "  <button class=\"colab-df-quickchart\" onclick=\"quickchart('df-b4819621-3126-430c-b4b2-abbea28abafe')\"\n",
              "            title=\"Suggest charts\"\n",
              "            style=\"display:none;\">\n",
              "\n",
              "<svg xmlns=\"http://www.w3.org/2000/svg\" height=\"24px\"viewBox=\"0 0 24 24\"\n",
              "     width=\"24px\">\n",
              "    <g>\n",
              "        <path d=\"M19 3H5c-1.1 0-2 .9-2 2v14c0 1.1.9 2 2 2h14c1.1 0 2-.9 2-2V5c0-1.1-.9-2-2-2zM9 17H7v-7h2v7zm4 0h-2V7h2v10zm4 0h-2v-4h2v4z\"/>\n",
              "    </g>\n",
              "</svg>\n",
              "  </button>\n",
              "\n",
              "<style>\n",
              "  .colab-df-quickchart {\n",
              "      --bg-color: #E8F0FE;\n",
              "      --fill-color: #1967D2;\n",
              "      --hover-bg-color: #E2EBFA;\n",
              "      --hover-fill-color: #174EA6;\n",
              "      --disabled-fill-color: #AAA;\n",
              "      --disabled-bg-color: #DDD;\n",
              "  }\n",
              "\n",
              "  [theme=dark] .colab-df-quickchart {\n",
              "      --bg-color: #3B4455;\n",
              "      --fill-color: #D2E3FC;\n",
              "      --hover-bg-color: #434B5C;\n",
              "      --hover-fill-color: #FFFFFF;\n",
              "      --disabled-bg-color: #3B4455;\n",
              "      --disabled-fill-color: #666;\n",
              "  }\n",
              "\n",
              "  .colab-df-quickchart {\n",
              "    background-color: var(--bg-color);\n",
              "    border: none;\n",
              "    border-radius: 50%;\n",
              "    cursor: pointer;\n",
              "    display: none;\n",
              "    fill: var(--fill-color);\n",
              "    height: 32px;\n",
              "    padding: 0;\n",
              "    width: 32px;\n",
              "  }\n",
              "\n",
              "  .colab-df-quickchart:hover {\n",
              "    background-color: var(--hover-bg-color);\n",
              "    box-shadow: 0 1px 2px rgba(60, 64, 67, 0.3), 0 1px 3px 1px rgba(60, 64, 67, 0.15);\n",
              "    fill: var(--button-hover-fill-color);\n",
              "  }\n",
              "\n",
              "  .colab-df-quickchart-complete:disabled,\n",
              "  .colab-df-quickchart-complete:disabled:hover {\n",
              "    background-color: var(--disabled-bg-color);\n",
              "    fill: var(--disabled-fill-color);\n",
              "    box-shadow: none;\n",
              "  }\n",
              "\n",
              "  .colab-df-spinner {\n",
              "    border: 2px solid var(--fill-color);\n",
              "    border-color: transparent;\n",
              "    border-bottom-color: var(--fill-color);\n",
              "    animation:\n",
              "      spin 1s steps(1) infinite;\n",
              "  }\n",
              "\n",
              "  @keyframes spin {\n",
              "    0% {\n",
              "      border-color: transparent;\n",
              "      border-bottom-color: var(--fill-color);\n",
              "      border-left-color: var(--fill-color);\n",
              "    }\n",
              "    20% {\n",
              "      border-color: transparent;\n",
              "      border-left-color: var(--fill-color);\n",
              "      border-top-color: var(--fill-color);\n",
              "    }\n",
              "    30% {\n",
              "      border-color: transparent;\n",
              "      border-left-color: var(--fill-color);\n",
              "      border-top-color: var(--fill-color);\n",
              "      border-right-color: var(--fill-color);\n",
              "    }\n",
              "    40% {\n",
              "      border-color: transparent;\n",
              "      border-right-color: var(--fill-color);\n",
              "      border-top-color: var(--fill-color);\n",
              "    }\n",
              "    60% {\n",
              "      border-color: transparent;\n",
              "      border-right-color: var(--fill-color);\n",
              "    }\n",
              "    80% {\n",
              "      border-color: transparent;\n",
              "      border-right-color: var(--fill-color);\n",
              "      border-bottom-color: var(--fill-color);\n",
              "    }\n",
              "    90% {\n",
              "      border-color: transparent;\n",
              "      border-bottom-color: var(--fill-color);\n",
              "    }\n",
              "  }\n",
              "</style>\n",
              "\n",
              "  <script>\n",
              "    async function quickchart(key) {\n",
              "      const quickchartButtonEl =\n",
              "        document.querySelector('#' + key + ' button');\n",
              "      quickchartButtonEl.disabled = true;  // To prevent multiple clicks.\n",
              "      quickchartButtonEl.classList.add('colab-df-spinner');\n",
              "      try {\n",
              "        const charts = await google.colab.kernel.invokeFunction(\n",
              "            'suggestCharts', [key], {});\n",
              "      } catch (error) {\n",
              "        console.error('Error during call to suggestCharts:', error);\n",
              "      }\n",
              "      quickchartButtonEl.classList.remove('colab-df-spinner');\n",
              "      quickchartButtonEl.classList.add('colab-df-quickchart-complete');\n",
              "    }\n",
              "    (() => {\n",
              "      let quickchartButtonEl =\n",
              "        document.querySelector('#df-b4819621-3126-430c-b4b2-abbea28abafe button');\n",
              "      quickchartButtonEl.style.display =\n",
              "        google.colab.kernel.accessAllowed ? 'block' : 'none';\n",
              "    })();\n",
              "  </script>\n",
              "</div>\n",
              "\n",
              "    </div>\n",
              "  </div>\n"
            ],
            "application/vnd.google.colaboratory.intrinsic+json": {
              "type": "dataframe",
              "variable_name": "euro12"
            }
          },
          "metadata": {},
          "execution_count": 43
        }
      ]
    },
    {
      "cell_type": "code",
      "source": [
        "#Step 3: Select Only the Goals Column\n",
        "goals = euro12['Goals']\n",
        "print(goals)\n"
      ],
      "metadata": {
        "colab": {
          "base_uri": "https://localhost:8080/"
        },
        "id": "25iYcQ_z1u3i",
        "outputId": "0d288353-c766-48ec-dd4b-a2abcc1edf8d"
      },
      "execution_count": 44,
      "outputs": [
        {
          "output_type": "stream",
          "name": "stdout",
          "text": [
            "0      4\n",
            "1      4\n",
            "2      4\n",
            "3      5\n",
            "4      3\n",
            "5     10\n",
            "6      5\n",
            "7      6\n",
            "8      2\n",
            "9      2\n",
            "10     6\n",
            "11     1\n",
            "12     5\n",
            "13    12\n",
            "14     5\n",
            "15     2\n",
            "Name: Goals, dtype: int64\n"
          ]
        }
      ]
    },
    {
      "cell_type": "code",
      "source": [
        "#Step 4: Number of Teams Participated\n",
        "teams_participated = euro12['Team'].nunique()\n",
        "print(teams_participated)\n"
      ],
      "metadata": {
        "colab": {
          "base_uri": "https://localhost:8080/"
        },
        "id": "QSM6XnP11xzi",
        "outputId": "7463fa69-205e-4505-89e4-91be4ac136f8"
      },
      "execution_count": 45,
      "outputs": [
        {
          "output_type": "stream",
          "name": "stdout",
          "text": [
            "16\n"
          ]
        }
      ]
    },
    {
      "cell_type": "code",
      "source": [
        "#Step 5: Number of Columns in the Dataset\n",
        "num_columns = euro12.shape[1]\n",
        "print(num_columns)\n"
      ],
      "metadata": {
        "colab": {
          "base_uri": "https://localhost:8080/"
        },
        "id": "P0xa9UcT1zVA",
        "outputId": "4c556c84-0dd4-49b6-84f3-d2a57e28c249"
      },
      "execution_count": 46,
      "outputs": [
        {
          "output_type": "stream",
          "name": "stdout",
          "text": [
            "35\n"
          ]
        }
      ]
    },
    {
      "cell_type": "code",
      "source": [
        "#Step 6: Select Specific Columns\n",
        "discipline = euro12[['Team', 'Yellow Cards', 'Red Cards']]\n",
        "print(discipline)\n"
      ],
      "metadata": {
        "colab": {
          "base_uri": "https://localhost:8080/"
        },
        "id": "zgkzop-z11z0",
        "outputId": "6a48a0e1-e006-4ba0-b98c-644f2169db0e"
      },
      "execution_count": 47,
      "outputs": [
        {
          "output_type": "stream",
          "name": "stdout",
          "text": [
            "                   Team  Yellow Cards  Red Cards\n",
            "0               Croatia             9          0\n",
            "1        Czech Republic             7          0\n",
            "2               Denmark             4          0\n",
            "3               England             5          0\n",
            "4                France             6          0\n",
            "5               Germany             4          0\n",
            "6                Greece             9          1\n",
            "7                 Italy            16          0\n",
            "8           Netherlands             5          0\n",
            "9                Poland             7          1\n",
            "10             Portugal            12          0\n",
            "11  Republic of Ireland             6          1\n",
            "12               Russia             6          0\n",
            "13                Spain            11          0\n",
            "14               Sweden             7          0\n",
            "15              Ukraine             5          0\n"
          ]
        }
      ]
    },
    {
      "cell_type": "code",
      "source": [
        "#Step 7: Sort Teams by Red Cards and Then by Yellow Cards\n",
        "sorted_discipline = discipline.sort_values(by=['Red Cards', 'Yellow Cards'], ascending=[True, True])\n",
        "print(sorted_discipline)\n"
      ],
      "metadata": {
        "colab": {
          "base_uri": "https://localhost:8080/"
        },
        "id": "wJkkpKn313YX",
        "outputId": "e83b4052-3d65-43ec-e217-9b4dc5724b68"
      },
      "execution_count": 48,
      "outputs": [
        {
          "output_type": "stream",
          "name": "stdout",
          "text": [
            "                   Team  Yellow Cards  Red Cards\n",
            "2               Denmark             4          0\n",
            "5               Germany             4          0\n",
            "3               England             5          0\n",
            "8           Netherlands             5          0\n",
            "15              Ukraine             5          0\n",
            "4                France             6          0\n",
            "12               Russia             6          0\n",
            "1        Czech Republic             7          0\n",
            "14               Sweden             7          0\n",
            "0               Croatia             9          0\n",
            "13                Spain            11          0\n",
            "10             Portugal            12          0\n",
            "7                 Italy            16          0\n",
            "11  Republic of Ireland             6          1\n",
            "9                Poland             7          1\n",
            "6                Greece             9          1\n"
          ]
        }
      ]
    },
    {
      "cell_type": "code",
      "source": [
        "#Step 8: Mean Yellow Cards Per Team\n",
        "mean_yellow_cards = euro12['Yellow Cards'].mean()\n",
        "print(mean_yellow_cards)\n"
      ],
      "metadata": {
        "colab": {
          "base_uri": "https://localhost:8080/"
        },
        "id": "Pm9Uvr2b16hT",
        "outputId": "f9153060-8a66-4eef-f2b9-74339780df78"
      },
      "execution_count": 49,
      "outputs": [
        {
          "output_type": "stream",
          "name": "stdout",
          "text": [
            "7.4375\n"
          ]
        }
      ]
    },
    {
      "cell_type": "code",
      "source": [
        "#Step 9: Filter Teams That Scored More Than 6 Goals\n",
        "teams_more_than_6_goals = euro12[euro12['Goals'] > 6]\n",
        "print(teams_more_than_6_goals)\n"
      ],
      "metadata": {
        "colab": {
          "base_uri": "https://localhost:8080/"
        },
        "id": "c9F9yoe_180z",
        "outputId": "b0e3cecd-df76-4a96-da8e-acc87a130e83"
      },
      "execution_count": 50,
      "outputs": [
        {
          "output_type": "stream",
          "name": "stdout",
          "text": [
            "       Team  Goals  Shots on target  Shots off target Shooting Accuracy  \\\n",
            "5   Germany     10               32                32             47.8%   \n",
            "13    Spain     12               42                33             55.9%   \n",
            "\n",
            "   % Goals-to-shots  Total shots (inc. Blocked)  Hit Woodwork  Penalty goals  \\\n",
            "5             15.6%                          80             2              1   \n",
            "13            16.0%                         100             0              1   \n",
            "\n",
            "    Penalties not scored  ...  Saves made  Saves-to-shots ratio  Fouls Won  \\\n",
            "5                      0  ...          10                 62.6%         63   \n",
            "13                     0  ...          15                 93.8%        102   \n",
            "\n",
            "   Fouls Conceded  Offsides  Yellow Cards  Red Cards  Subs on  Subs off  \\\n",
            "5              49        12             4          0       15        15   \n",
            "13             83        19            11          0       17        17   \n",
            "\n",
            "    Players Used  \n",
            "5             17  \n",
            "13            18  \n",
            "\n",
            "[2 rows x 35 columns]\n"
          ]
        }
      ]
    },
    {
      "cell_type": "code",
      "source": [
        "#Step 10: Select Teams That Start With \"G\"\n",
        "teams_start_with_G = euro12[euro12['Team'].str.startswith('G')]\n",
        "print(teams_start_with_G)\n"
      ],
      "metadata": {
        "colab": {
          "base_uri": "https://localhost:8080/"
        },
        "id": "r_s7XDq81-mf",
        "outputId": "37205343-29e1-46e8-9952-08e6ad0a7075"
      },
      "execution_count": 51,
      "outputs": [
        {
          "output_type": "stream",
          "name": "stdout",
          "text": [
            "      Team  Goals  Shots on target  Shots off target Shooting Accuracy  \\\n",
            "5  Germany     10               32                32             47.8%   \n",
            "6   Greece      5                8                18             30.7%   \n",
            "\n",
            "  % Goals-to-shots  Total shots (inc. Blocked)  Hit Woodwork  Penalty goals  \\\n",
            "5            15.6%                          80             2              1   \n",
            "6            19.2%                          32             1              1   \n",
            "\n",
            "   Penalties not scored  ...  Saves made  Saves-to-shots ratio  Fouls Won  \\\n",
            "5                     0  ...          10                 62.6%         63   \n",
            "6                     1  ...          13                 65.1%         67   \n",
            "\n",
            "  Fouls Conceded  Offsides  Yellow Cards  Red Cards  Subs on  Subs off  \\\n",
            "5             49        12             4          0       15        15   \n",
            "6             48        12             9          1       12        12   \n",
            "\n",
            "   Players Used  \n",
            "5            17  \n",
            "6            20  \n",
            "\n",
            "[2 rows x 35 columns]\n"
          ]
        }
      ]
    },
    {
      "cell_type": "code",
      "source": [
        "#Step 11: Select the First 7 Columns\n",
        "first_7_columns = euro12.iloc[:, :7]\n",
        "print(first_7_columns)\n"
      ],
      "metadata": {
        "colab": {
          "base_uri": "https://localhost:8080/"
        },
        "id": "bvP_f11j2Ad0",
        "outputId": "59c685ba-a66c-4cbf-948c-04f8ca812118"
      },
      "execution_count": 52,
      "outputs": [
        {
          "output_type": "stream",
          "name": "stdout",
          "text": [
            "                   Team  Goals  Shots on target  Shots off target  \\\n",
            "0               Croatia      4               13                12   \n",
            "1        Czech Republic      4               13                18   \n",
            "2               Denmark      4               10                10   \n",
            "3               England      5               11                18   \n",
            "4                France      3               22                24   \n",
            "5               Germany     10               32                32   \n",
            "6                Greece      5                8                18   \n",
            "7                 Italy      6               34                45   \n",
            "8           Netherlands      2               12                36   \n",
            "9                Poland      2               15                23   \n",
            "10             Portugal      6               22                42   \n",
            "11  Republic of Ireland      1                7                12   \n",
            "12               Russia      5                9                31   \n",
            "13                Spain     12               42                33   \n",
            "14               Sweden      5               17                19   \n",
            "15              Ukraine      2                7                26   \n",
            "\n",
            "   Shooting Accuracy % Goals-to-shots  Total shots (inc. Blocked)  \n",
            "0              51.9%            16.0%                          32  \n",
            "1              41.9%            12.9%                          39  \n",
            "2              50.0%            20.0%                          27  \n",
            "3              50.0%            17.2%                          40  \n",
            "4              37.9%             6.5%                          65  \n",
            "5              47.8%            15.6%                          80  \n",
            "6              30.7%            19.2%                          32  \n",
            "7              43.0%             7.5%                         110  \n",
            "8              25.0%             4.1%                          60  \n",
            "9              39.4%             5.2%                          48  \n",
            "10             34.3%             9.3%                          82  \n",
            "11             36.8%             5.2%                          28  \n",
            "12             22.5%            12.5%                          59  \n",
            "13             55.9%            16.0%                         100  \n",
            "14             47.2%            13.8%                          39  \n",
            "15             21.2%             6.0%                          38  \n"
          ]
        }
      ]
    },
    {
      "cell_type": "code",
      "source": [
        "#Step 12: Select All Columns Except the Last 3\n",
        "all_but_last_3 = euro12.iloc[:, :-3]\n",
        "print(all_but_last_3)\n"
      ],
      "metadata": {
        "colab": {
          "base_uri": "https://localhost:8080/"
        },
        "id": "v3pr3Ha62J00",
        "outputId": "f0f6aea2-bd09-4d3f-afeb-0cf9bd38859b"
      },
      "execution_count": 53,
      "outputs": [
        {
          "output_type": "stream",
          "name": "stdout",
          "text": [
            "                   Team  Goals  Shots on target  Shots off target  \\\n",
            "0               Croatia      4               13                12   \n",
            "1        Czech Republic      4               13                18   \n",
            "2               Denmark      4               10                10   \n",
            "3               England      5               11                18   \n",
            "4                France      3               22                24   \n",
            "5               Germany     10               32                32   \n",
            "6                Greece      5                8                18   \n",
            "7                 Italy      6               34                45   \n",
            "8           Netherlands      2               12                36   \n",
            "9                Poland      2               15                23   \n",
            "10             Portugal      6               22                42   \n",
            "11  Republic of Ireland      1                7                12   \n",
            "12               Russia      5                9                31   \n",
            "13                Spain     12               42                33   \n",
            "14               Sweden      5               17                19   \n",
            "15              Ukraine      2                7                26   \n",
            "\n",
            "   Shooting Accuracy % Goals-to-shots  Total shots (inc. Blocked)  \\\n",
            "0              51.9%            16.0%                          32   \n",
            "1              41.9%            12.9%                          39   \n",
            "2              50.0%            20.0%                          27   \n",
            "3              50.0%            17.2%                          40   \n",
            "4              37.9%             6.5%                          65   \n",
            "5              47.8%            15.6%                          80   \n",
            "6              30.7%            19.2%                          32   \n",
            "7              43.0%             7.5%                         110   \n",
            "8              25.0%             4.1%                          60   \n",
            "9              39.4%             5.2%                          48   \n",
            "10             34.3%             9.3%                          82   \n",
            "11             36.8%             5.2%                          28   \n",
            "12             22.5%            12.5%                          59   \n",
            "13             55.9%            16.0%                         100   \n",
            "14             47.2%            13.8%                          39   \n",
            "15             21.2%             6.0%                          38   \n",
            "\n",
            "    Hit Woodwork  Penalty goals  Penalties not scored  ...  Clean Sheets  \\\n",
            "0              0              0                     0  ...             0   \n",
            "1              0              0                     0  ...             1   \n",
            "2              1              0                     0  ...             1   \n",
            "3              0              0                     0  ...             2   \n",
            "4              1              0                     0  ...             1   \n",
            "5              2              1                     0  ...             1   \n",
            "6              1              1                     1  ...             1   \n",
            "7              2              0                     0  ...             2   \n",
            "8              2              0                     0  ...             0   \n",
            "9              0              0                     0  ...             0   \n",
            "10             6              0                     0  ...             2   \n",
            "11             0              0                     0  ...             0   \n",
            "12             2              0                     0  ...             0   \n",
            "13             0              1                     0  ...             5   \n",
            "14             3              0                     0  ...             1   \n",
            "15             0              0                     0  ...             0   \n",
            "\n",
            "    Blocks  Goals conceded Saves made  Saves-to-shots ratio  Fouls Won  \\\n",
            "0       10               3         13                 81.3%         41   \n",
            "1       10               6          9                 60.1%         53   \n",
            "2       10               5         10                 66.7%         25   \n",
            "3       29               3         22                 88.1%         43   \n",
            "4        7               5          6                 54.6%         36   \n",
            "5       11               6         10                 62.6%         63   \n",
            "6       23               7         13                 65.1%         67   \n",
            "7       18               7         20                 74.1%        101   \n",
            "8        9               5         12                 70.6%         35   \n",
            "9        8               3          6                 66.7%         48   \n",
            "10      11               4         10                 71.5%         73   \n",
            "11      23               9         17                 65.4%         43   \n",
            "12       8               3         10                 77.0%         34   \n",
            "13       8               1         15                 93.8%        102   \n",
            "14      12               5          8                 61.6%         35   \n",
            "15       4               4         13                 76.5%         48   \n",
            "\n",
            "    Fouls Conceded  Offsides  Yellow Cards  Red Cards  \n",
            "0               62         2             9          0  \n",
            "1               73         8             7          0  \n",
            "2               38         8             4          0  \n",
            "3               45         6             5          0  \n",
            "4               51         5             6          0  \n",
            "5               49        12             4          0  \n",
            "6               48        12             9          1  \n",
            "7               89        16            16          0  \n",
            "8               30         3             5          0  \n",
            "9               56         3             7          1  \n",
            "10              90        10            12          0  \n",
            "11              51        11             6          1  \n",
            "12              43         4             6          0  \n",
            "13              83        19            11          0  \n",
            "14              51         7             7          0  \n",
            "15              31         4             5          0  \n",
            "\n",
            "[16 rows x 32 columns]\n"
          ]
        }
      ]
    },
    {
      "cell_type": "code",
      "source": [
        "#Step 13: Shooting Accuracy for Specific Teams\n",
        "#Step 14. Present only the Shooting Accuracy from England, Italy and Russia\n",
        "shooting_accuracy = euro12[euro12['Team'].isin(['England', 'Italy', 'Russia'])][['Team', 'Shooting Accuracy']]\n",
        "print(shooting_accuracy)\n"
      ],
      "metadata": {
        "colab": {
          "base_uri": "https://localhost:8080/"
        },
        "id": "4tVNes512L-L",
        "outputId": "8a5c788b-08ad-4bde-dbc3-9f45fac9b905"
      },
      "execution_count": 55,
      "outputs": [
        {
          "output_type": "stream",
          "name": "stdout",
          "text": [
            "       Team Shooting Accuracy\n",
            "3   England             50.0%\n",
            "7     Italy             43.0%\n",
            "12   Russia             22.5%\n"
          ]
        }
      ]
    },
    {
      "cell_type": "markdown",
      "source": [
        "#Question 3: Housing"
      ],
      "metadata": {
        "id": "C6uWF7R32XSu"
      }
    },
    {
      "cell_type": "code",
      "source": [
        "#Step 1: Import Libraries\n",
        "import pandas as pd\n",
        "import numpy as np\n"
      ],
      "metadata": {
        "id": "dkZdXGMk2POu"
      },
      "execution_count": 56,
      "outputs": []
    },
    {
      "cell_type": "code",
      "source": [
        "#Step 2: Create Three Series\n",
        "series1 = pd.Series(np.random.randint(1, 5, 100))\n",
        "series2 = pd.Series(np.random.randint(1, 4, 100))\n",
        "series3 = pd.Series(np.random.randint(10000, 30001, 100))\n"
      ],
      "metadata": {
        "id": "DyMwSAeG2hr_"
      },
      "execution_count": 58,
      "outputs": []
    },
    {
      "cell_type": "code",
      "source": [
        "#Step 3: Create a DataFrame\n",
        "housing = pd.DataFrame({'bedrs': series1, 'bathrs': series2, 'price_sqr_meter': series3})\n",
        "print(housing.head())\n"
      ],
      "metadata": {
        "colab": {
          "base_uri": "https://localhost:8080/"
        },
        "id": "TGgr30C02kIo",
        "outputId": "5a1d278a-ece3-474e-a852-c76c53d93400"
      },
      "execution_count": 59,
      "outputs": [
        {
          "output_type": "stream",
          "name": "stdout",
          "text": [
            "   bedrs  bathrs  price_sqr_meter\n",
            "0      1       3            23111\n",
            "1      4       3            10335\n",
            "2      1       1            17565\n",
            "3      1       2            19212\n",
            "4      4       1            13812\n"
          ]
        }
      ]
    },
    {
      "cell_type": "code",
      "source": [
        "#Step 4: Rename Columns\n",
        "bigcolumn = pd.concat([series1, series2, series3], ignore_index=True)\n",
        "print(bigcolumn)\n"
      ],
      "metadata": {
        "colab": {
          "base_uri": "https://localhost:8080/"
        },
        "id": "EUUYuSzu2lri",
        "outputId": "60eb1dab-4a6d-4c16-dec5-1dc2051fc3f8"
      },
      "execution_count": 60,
      "outputs": [
        {
          "output_type": "stream",
          "name": "stdout",
          "text": [
            "0          1\n",
            "1          4\n",
            "2          1\n",
            "3          1\n",
            "4          4\n",
            "       ...  \n",
            "295    29409\n",
            "296    21170\n",
            "297    23848\n",
            "298    29383\n",
            "299    18237\n",
            "Length: 300, dtype: int64\n"
          ]
        }
      ]
    },
    {
      "cell_type": "code",
      "source": [
        "#Step 5: Create a One-Column DataFrame\n",
        "print(bigcolumn.index.max())\n"
      ],
      "metadata": {
        "colab": {
          "base_uri": "https://localhost:8080/"
        },
        "id": "XM7K_Dwy2nVn",
        "outputId": "6cbf565a-755c-4054-abb6-5a5addea0db6"
      },
      "execution_count": 61,
      "outputs": [
        {
          "output_type": "stream",
          "name": "stdout",
          "text": [
            "299\n"
          ]
        }
      ]
    },
    {
      "cell_type": "code",
      "source": [
        "#Step 6: Check the Index of bigcolumn\n",
        "bigcolumn = bigcolumn.reset_index(drop=True)\n",
        "bigcolumn.index = range(300)\n",
        "print(bigcolumn)\n"
      ],
      "metadata": {
        "colab": {
          "base_uri": "https://localhost:8080/"
        },
        "id": "jzb_BUmV2sVt",
        "outputId": "e24427e9-0e20-4dce-8f82-32800a1a3e72"
      },
      "execution_count": 62,
      "outputs": [
        {
          "output_type": "stream",
          "name": "stdout",
          "text": [
            "0          1\n",
            "1          4\n",
            "2          1\n",
            "3          1\n",
            "4          4\n",
            "       ...  \n",
            "295    29409\n",
            "296    21170\n",
            "297    23848\n",
            "298    29383\n",
            "299    18237\n",
            "Length: 300, dtype: int64\n"
          ]
        }
      ]
    },
    {
      "cell_type": "code",
      "source": [
        "#Step 7: Reindex bigcolumn\n",
        "\n",
        "# Reindex the DataFrame\n",
        "bigcolumn.index = range(300)\n",
        "\n",
        "# Display the first few rows with new index\n",
        "print(bigcolumn.head())\n"
      ],
      "metadata": {
        "colab": {
          "base_uri": "https://localhost:8080/"
        },
        "id": "C19x1MSetGNd",
        "outputId": "daa9f46f-9d94-428a-e3c6-fc9355080722"
      },
      "execution_count": 64,
      "outputs": [
        {
          "output_type": "stream",
          "name": "stdout",
          "text": [
            "0    1\n",
            "1    4\n",
            "2    1\n",
            "3    1\n",
            "4    4\n",
            "dtype: int64\n"
          ]
        }
      ]
    },
    {
      "cell_type": "markdown",
      "source": [
        "#Question 4: Wind Statistics"
      ],
      "metadata": {
        "id": "X2ICl7fl2yWS"
      }
    },
    {
      "cell_type": "code",
      "source": [
        "#Step 1: Import Libraries\n",
        "import pandas as pd\n",
        "import numpy as np\n"
      ],
      "metadata": {
        "id": "MwY5NRY_2tzs"
      },
      "execution_count": 65,
      "outputs": []
    },
    {
      "cell_type": "code",
      "source": [
        "# Example data to simulate wind.data\n",
        "data = \"\"\"61  1  1 15.04 14.96 13.17  9.29   NaN  9.87 13.67 10.25 10.83 12.58 18.50 15.04\n",
        "61  1  2 14.71   NaN 10.83  6.50 12.62  7.67 11.50 10.04  9.79  9.67 17.54 13.83\n",
        "61  1  3 18.50 16.88 12.33 10.13 11.17  6.17 11.25   NaN  8.50  7.67 12.75 12.71\n",
        "\"\"\"\n",
        "\n",
        "# Save the data to a file named wind.data\n",
        "with open('wind.data', 'w') as file:\n",
        "    file.write(data)\n",
        "\n",
        "print(\"wind.data file created successfully!\")\n"
      ],
      "metadata": {
        "colab": {
          "base_uri": "https://localhost:8080/"
        },
        "id": "bvy7bBiutm8w",
        "outputId": "e826a457-6ac5-4bec-9274-8a02328b05df"
      },
      "execution_count": 67,
      "outputs": [
        {
          "output_type": "stream",
          "name": "stdout",
          "text": [
            "wind.data file created successfully!\n"
          ]
        }
      ]
    },
    {
      "cell_type": "code",
      "source": [
        "#Step 2: Load the Dataset\n",
        "# Load the dataset\n",
        "wind_data = pd.read_csv('wind.data', delim_whitespace=True, header=None)\n",
        "\n",
        "# Assign column names\n",
        "wind_data.columns = ['Yr', 'Mo', 'Dy'] + [f'Loc_{i}' for i in range(1, 13)]\n",
        "\n",
        "# Display the first few rows\n",
        "print(wind_data.head())\n",
        "\n"
      ],
      "metadata": {
        "colab": {
          "base_uri": "https://localhost:8080/"
        },
        "id": "OTWUQuFG21G3",
        "outputId": "c6a8d2e6-7f19-403e-b733-6737a3bbe646"
      },
      "execution_count": 68,
      "outputs": [
        {
          "output_type": "stream",
          "name": "stdout",
          "text": [
            "   Yr  Mo  Dy  Loc_1  Loc_2  Loc_3  Loc_4  Loc_5  Loc_6  Loc_7  Loc_8  Loc_9  \\\n",
            "0  61   1   1  15.04  14.96  13.17   9.29    NaN   9.87  13.67  10.25  10.83   \n",
            "1  61   1   2  14.71    NaN  10.83   6.50  12.62   7.67  11.50  10.04   9.79   \n",
            "2  61   1   3  18.50  16.88  12.33  10.13  11.17   6.17  11.25    NaN   8.50   \n",
            "\n",
            "   Loc_10  Loc_11  Loc_12  \n",
            "0   12.58   18.50   15.04  \n",
            "1    9.67   17.54   13.83  \n",
            "2    7.67   12.75   12.71  \n"
          ]
        },
        {
          "output_type": "stream",
          "name": "stderr",
          "text": [
            "<ipython-input-68-d2fb9273dbb4>:3: FutureWarning: The 'delim_whitespace' keyword in pd.read_csv is deprecated and will be removed in a future version. Use ``sep='\\s+'`` instead\n",
            "  wind_data = pd.read_csv('wind.data', delim_whitespace=True, header=None)\n"
          ]
        }
      ]
    },
    {
      "cell_type": "code",
      "source": [
        "# Check column names\n",
        "print(wind_data.columns)\n"
      ],
      "metadata": {
        "colab": {
          "base_uri": "https://localhost:8080/"
        },
        "id": "DRoqQMUN221V",
        "outputId": "069e28b8-4d03-4144-e8d7-c1cb575dc17c"
      },
      "execution_count": 70,
      "outputs": [
        {
          "output_type": "stream",
          "name": "stdout",
          "text": [
            "Index(['Yr', 'Mo', 'Dy', 'Loc_1', 'Loc_2', 'Loc_3', 'Loc_4', 'Loc_5', 'Loc_6',\n",
            "       'Loc_7', 'Loc_8', 'Loc_9', 'Loc_10', 'Loc_11', 'Loc_12'],\n",
            "      dtype='object')\n"
          ]
        }
      ]
    },
    {
      "cell_type": "code",
      "source": [
        "print(wind_data[['Yr', 'Mo', 'Dy']].isna().sum())\n"
      ],
      "metadata": {
        "colab": {
          "base_uri": "https://localhost:8080/"
        },
        "id": "B1sNMeCO3OkC",
        "outputId": "331a5c38-897d-459f-ab65-5673e638c14b"
      },
      "execution_count": 71,
      "outputs": [
        {
          "output_type": "stream",
          "name": "stdout",
          "text": [
            "Yr    0\n",
            "Mo    0\n",
            "Dy    0\n",
            "dtype: int64\n"
          ]
        }
      ]
    },
    {
      "cell_type": "code",
      "source": [
        "wind_data = wind_data.dropna(subset=['Yr', 'Mo', 'Dy'])\n"
      ],
      "metadata": {
        "id": "LnFXwt1R3WDF"
      },
      "execution_count": 72,
      "outputs": []
    },
    {
      "cell_type": "code",
      "source": [
        "wind_data[['Yr', 'Mo', 'Dy']] = wind_data[['Yr', 'Mo', 'Dy']].astype(int)\n"
      ],
      "metadata": {
        "id": "pOZJdr1q3X28"
      },
      "execution_count": 73,
      "outputs": []
    },
    {
      "cell_type": "code",
      "source": [
        "wind_data['Yr'] = wind_data['Yr'].apply(lambda x: x + 1900 if x < 100 else x)\n"
      ],
      "metadata": {
        "id": "gYb3_KXH31NK"
      },
      "execution_count": 74,
      "outputs": []
    },
    {
      "cell_type": "code",
      "source": [
        "print(wind_data[['Yr', 'Mo', 'Dy']].isna().sum())\n"
      ],
      "metadata": {
        "colab": {
          "base_uri": "https://localhost:8080/"
        },
        "id": "wp6EoP_D5OPr",
        "outputId": "d131c68f-f5e0-49f8-b5b8-b7c954aa98bf"
      },
      "execution_count": 42,
      "outputs": [
        {
          "output_type": "stream",
          "name": "stdout",
          "text": [
            "Yr    0\n",
            "Mo    0\n",
            "Dy    0\n",
            "dtype: int64\n"
          ]
        }
      ]
    },
    {
      "cell_type": "code",
      "source": [
        "wind_data = wind_data.dropna(subset=['Yr', 'Mo', 'Dy'])\n"
      ],
      "metadata": {
        "id": "zuOKKnh95P-g"
      },
      "execution_count": 43,
      "outputs": []
    },
    {
      "cell_type": "code",
      "source": [
        "wind_data[['Yr', 'Mo', 'Dy']] = wind_data[['Yr', 'Mo', 'Dy']].astype(int)\n"
      ],
      "metadata": {
        "id": "l2LhAYCp5Rj-"
      },
      "execution_count": 44,
      "outputs": []
    },
    {
      "cell_type": "code",
      "source": [
        "print(\"Data types before conversion:\")\n",
        "print(wind_data[['Yr', 'Mo', 'Dy']].dtypes)"
      ],
      "metadata": {
        "colab": {
          "base_uri": "https://localhost:8080/"
        },
        "id": "juXkNvqw5TAf",
        "outputId": "43cfa069-50ad-41e9-e035-4baa632f487e"
      },
      "execution_count": 46,
      "outputs": [
        {
          "output_type": "stream",
          "name": "stdout",
          "text": [
            "Data types before conversion:\n",
            "Yr    int64\n",
            "Mo    int64\n",
            "Dy    int64\n",
            "dtype: object\n"
          ]
        }
      ]
    },
    {
      "cell_type": "code",
      "source": [
        "wind_data['Yr'] = wind_data['Yr'].apply(lambda x: x + 1900 if x < 100 else x)\n"
      ],
      "metadata": {
        "id": "-cfMgNHK5UIr"
      },
      "execution_count": 48,
      "outputs": []
    },
    {
      "cell_type": "code",
      "source": [
        "try:\n",
        "    wind_data['Date'] = pd.to_datetime(wind_data[['Yr', 'Mo', 'Dy']], errors='coerce')\n",
        "except Exception as e:\n",
        "    print(f\"Error during datetime conversion: {e}\")\n",
        "    print(\"Inspecting problematic rows:\")\n",
        "    print(wind_data[['Yr', 'Mo', 'Dy']])"
      ],
      "metadata": {
        "colab": {
          "base_uri": "https://localhost:8080/"
        },
        "id": "z4DOSkvH5jka",
        "outputId": "a3a2f0a9-1619-453d-dbe9-4e85cf7c9ff9"
      },
      "execution_count": 49,
      "outputs": [
        {
          "output_type": "stream",
          "name": "stdout",
          "text": [
            "Error during datetime conversion: to assemble mappings requires at least that [year, month, day] be specified: [day,month,year] is missing\n",
            "Inspecting problematic rows:\n",
            "     Yr  Mo  Dy\n",
            "0  1961   1   1\n",
            "1  1961   1   2\n",
            "2  1961   1   3\n"
          ]
        }
      ]
    },
    {
      "cell_type": "code",
      "source": [
        "# print(\"Checking for invalid dates...\")\n",
        "# invalid_dates = wind_data[wind_data['Date'].isna()]\n",
        "# if not invalid_dates.empty:\n",
        "#     print(\"Found rows with invalid dates:\")\n",
        "#     print(invalid_dates)\n",
        "#     wind_data = wind_data.dropna(subset=['Date'])"
      ],
      "metadata": {
        "id": "Yy1Lhu985qQF"
      },
      "execution_count": 1,
      "outputs": []
    },
    {
      "cell_type": "markdown",
      "source": [
        "#Question 5: Chipotle Dataset"
      ],
      "metadata": {
        "id": "mU5kn2rXn1sd"
      }
    },
    {
      "cell_type": "code",
      "source": [
        "#Step 1: Import Necessary Libraries\n",
        "import pandas as pd\n",
        "\n",
        "#Step 2: Load the Dataset\n",
        "# Import the dataset\n",
        "url = \"https://raw.githubusercontent.com/justmarkham/DAT8/master/data/chipotle.tsv\"\n",
        "chipo = pd.read_csv(url, sep='\\t')\n",
        "\n",
        "# Display the first few rows to confirm loading\n",
        "print(chipo.head())\n"
      ],
      "metadata": {
        "colab": {
          "base_uri": "https://localhost:8080/"
        },
        "id": "hn9ijzAD5s0R",
        "outputId": "98d2fe26-037f-45f3-ac20-5ff6bb0df380"
      },
      "execution_count": 80,
      "outputs": [
        {
          "output_type": "stream",
          "name": "stdout",
          "text": [
            "   order_id  quantity                              item_name  \\\n",
            "0         1         1           Chips and Fresh Tomato Salsa   \n",
            "1         1         1                                   Izze   \n",
            "2         1         1                       Nantucket Nectar   \n",
            "3         1         1  Chips and Tomatillo-Green Chili Salsa   \n",
            "4         2         2                           Chicken Bowl   \n",
            "\n",
            "                                  choice_description item_price  \n",
            "0                                                NaN     $2.39   \n",
            "1                                       [Clementine]     $3.39   \n",
            "2                                            [Apple]     $3.39   \n",
            "3                                                NaN     $2.39   \n",
            "4  [Tomatillo-Red Chili Salsa (Hot), [Black Beans...    $16.98   \n"
          ]
        }
      ]
    },
    {
      "cell_type": "code",
      "source": [
        "#Step 3: Display the First 10 Entries\n",
        "# Display the first 10 entries\n",
        "print(\"First 10 entries:\")\n",
        "print(chipo.head(10))\n"
      ],
      "metadata": {
        "colab": {
          "base_uri": "https://localhost:8080/"
        },
        "id": "8fbh2_gyn68r",
        "outputId": "42711f60-8685-4c6b-961a-11ed56bbd956"
      },
      "execution_count": 4,
      "outputs": [
        {
          "output_type": "stream",
          "name": "stdout",
          "text": [
            "First 10 entries:\n",
            "   order_id  quantity                              item_name  \\\n",
            "0         1         1           Chips and Fresh Tomato Salsa   \n",
            "1         1         1                                   Izze   \n",
            "2         1         1                       Nantucket Nectar   \n",
            "3         1         1  Chips and Tomatillo-Green Chili Salsa   \n",
            "4         2         2                           Chicken Bowl   \n",
            "5         3         1                           Chicken Bowl   \n",
            "6         3         1                          Side of Chips   \n",
            "7         4         1                          Steak Burrito   \n",
            "8         4         1                       Steak Soft Tacos   \n",
            "9         5         1                          Steak Burrito   \n",
            "\n",
            "                                  choice_description item_price  \n",
            "0                                                NaN     $2.39   \n",
            "1                                       [Clementine]     $3.39   \n",
            "2                                            [Apple]     $3.39   \n",
            "3                                                NaN     $2.39   \n",
            "4  [Tomatillo-Red Chili Salsa (Hot), [Black Beans...    $16.98   \n",
            "5  [Fresh Tomato Salsa (Mild), [Rice, Cheese, Sou...    $10.98   \n",
            "6                                                NaN     $1.69   \n",
            "7  [Tomatillo Red Chili Salsa, [Fajita Vegetables...    $11.75   \n",
            "8  [Tomatillo Green Chili Salsa, [Pinto Beans, Ch...     $9.25   \n",
            "9  [Fresh Tomato Salsa, [Rice, Black Beans, Pinto...     $9.25   \n"
          ]
        }
      ]
    },
    {
      "cell_type": "code",
      "source": [
        "#Step 4: Number of Observations\n",
        "num_observations = chipo.shape[0]\n",
        "print(f\"Number of observations: {num_observations}\")\n"
      ],
      "metadata": {
        "colab": {
          "base_uri": "https://localhost:8080/"
        },
        "id": "2T2U-1q8oGHg",
        "outputId": "96e0bc9f-4ff7-4c14-84f3-72ab6b38e685"
      },
      "execution_count": 5,
      "outputs": [
        {
          "output_type": "stream",
          "name": "stdout",
          "text": [
            "Number of observations: 4622\n"
          ]
        }
      ]
    },
    {
      "cell_type": "code",
      "source": [
        "#Step 5:  Number of columns\n",
        "num_columns = chipo.shape[1]\n",
        "print(f\"Number of columns: {num_columns}\")\n"
      ],
      "metadata": {
        "colab": {
          "base_uri": "https://localhost:8080/"
        },
        "id": "-ZaSkL9joH0F",
        "outputId": "190c6687-60be-42cf-d3c2-7721877319d8"
      },
      "execution_count": 6,
      "outputs": [
        {
          "output_type": "stream",
          "name": "stdout",
          "text": [
            "Number of columns: 5\n"
          ]
        }
      ]
    },
    {
      "cell_type": "code",
      "source": [
        "#Step 6: Column names\n",
        "column_names = chipo.columns.tolist()\n",
        "print(f\"Column names: {column_names}\")\n"
      ],
      "metadata": {
        "colab": {
          "base_uri": "https://localhost:8080/"
        },
        "id": "BjX1_mZxoJL8",
        "outputId": "00812a4e-fd15-4a6a-e083-7aa0baf9f7c6"
      },
      "execution_count": 7,
      "outputs": [
        {
          "output_type": "stream",
          "name": "stdout",
          "text": [
            "Column names: ['order_id', 'quantity', 'item_name', 'choice_description', 'item_price']\n"
          ]
        }
      ]
    },
    {
      "cell_type": "code",
      "source": [
        "#Step 7: Dataset index\n",
        "dataset_index = chipo.index\n",
        "print(f\"Dataset index: {dataset_index}\")\n"
      ],
      "metadata": {
        "colab": {
          "base_uri": "https://localhost:8080/"
        },
        "id": "5qXHwEzKoKkl",
        "outputId": "44eaa419-6789-4ebf-89ce-76badc0e1b06"
      },
      "execution_count": 8,
      "outputs": [
        {
          "output_type": "stream",
          "name": "stdout",
          "text": [
            "Dataset index: RangeIndex(start=0, stop=4622, step=1)\n"
          ]
        }
      ]
    },
    {
      "cell_type": "code",
      "source": [
        "#Step 8: Most-ordered item\n",
        "most_ordered_item = chipo['item_name'].value_counts().idxmax()\n",
        "print(f\"Most-ordered item: {most_ordered_item}\")\n"
      ],
      "metadata": {
        "colab": {
          "base_uri": "https://localhost:8080/"
        },
        "id": "h-0PS6R3oMHB",
        "outputId": "4b3f8ece-7c4a-4a74-9ad1-0c924e00cea3"
      },
      "execution_count": 9,
      "outputs": [
        {
          "output_type": "stream",
          "name": "stdout",
          "text": [
            "Most-ordered item: Chicken Bowl\n"
          ]
        }
      ]
    },
    {
      "cell_type": "code",
      "source": [
        "#Step 9: Quantity of the most-ordered item\n",
        "most_ordered_quantity = chipo[chipo['item_name'] == most_ordered_item]['quantity'].sum()\n",
        "print(f\"Quantity of the most-ordered item: {most_ordered_quantity}\")\n"
      ],
      "metadata": {
        "colab": {
          "base_uri": "https://localhost:8080/"
        },
        "id": "Vh-8_twmoNnA",
        "outputId": "808d06da-8ea6-4744-8953-9dc191a1bd6d"
      },
      "execution_count": 10,
      "outputs": [
        {
          "output_type": "stream",
          "name": "stdout",
          "text": [
            "Quantity of the most-ordered item: 761\n"
          ]
        }
      ]
    },
    {
      "cell_type": "code",
      "source": [
        "#Step 10: Most-ordered choice description\n",
        "most_ordered_choice = chipo['choice_description'].value_counts().idxmax()\n",
        "print(f\"Most-ordered choice description: {most_ordered_choice}\")\n"
      ],
      "metadata": {
        "colab": {
          "base_uri": "https://localhost:8080/"
        },
        "id": "dm9fnOnaoPCz",
        "outputId": "d191fa69-0014-4938-8126-e253e5a8e5fa"
      },
      "execution_count": 11,
      "outputs": [
        {
          "output_type": "stream",
          "name": "stdout",
          "text": [
            "Most-ordered choice description: [Diet Coke]\n"
          ]
        }
      ]
    },
    {
      "cell_type": "code",
      "source": [
        "#Step 11: Total items ordered\n",
        "total_items_ordered = chipo['quantity'].sum()\n",
        "print(f\"Total items ordered: {total_items_ordered}\")\n"
      ],
      "metadata": {
        "colab": {
          "base_uri": "https://localhost:8080/"
        },
        "id": "N9lEoIyWoQns",
        "outputId": "d61287a0-1a55-46b0-84d6-4b76b29c3533"
      },
      "execution_count": 12,
      "outputs": [
        {
          "output_type": "stream",
          "name": "stdout",
          "text": [
            "Total items ordered: 4972\n"
          ]
        }
      ]
    },
    {
      "cell_type": "code",
      "source": [
        "#Step 12: Convert item_price to float\n",
        "chipo['item_price'] = chipo['item_price'].str.replace('$', '').astype(float)\n",
        "print(f\"Item price type: {chipo['item_price'].dtype}\")\n"
      ],
      "metadata": {
        "colab": {
          "base_uri": "https://localhost:8080/"
        },
        "id": "aCUT2uhCoR2d",
        "outputId": "3cdf6aac-910c-4dc6-8ba8-a305c366d623"
      },
      "execution_count": 13,
      "outputs": [
        {
          "output_type": "stream",
          "name": "stdout",
          "text": [
            "Item price type: float64\n"
          ]
        }
      ]
    },
    {
      "cell_type": "code",
      "source": [
        "#Step 13: Total revenue\n",
        "total_revenue = (chipo['quantity'] * chipo['item_price']).sum()\n",
        "print(f\"Total revenue: ${total_revenue:.2f}\")\n"
      ],
      "metadata": {
        "colab": {
          "base_uri": "https://localhost:8080/"
        },
        "id": "AtaBY4SIoTO7",
        "outputId": "32f0cb3c-49f8-4f31-ba92-7f9f8a49f4d6"
      },
      "execution_count": 14,
      "outputs": [
        {
          "output_type": "stream",
          "name": "stdout",
          "text": [
            "Total revenue: $39237.02\n"
          ]
        }
      ]
    },
    {
      "cell_type": "code",
      "source": [
        "#Step 14: Total number of orders\n",
        "total_orders = chipo['order_id'].nunique()\n",
        "print(f\"Total number of orders: {total_orders}\")\n"
      ],
      "metadata": {
        "colab": {
          "base_uri": "https://localhost:8080/"
        },
        "id": "20zI5BIOoUkh",
        "outputId": "35fa4421-9644-45e2-d930-60f710c2ff0e"
      },
      "execution_count": 15,
      "outputs": [
        {
          "output_type": "stream",
          "name": "stdout",
          "text": [
            "Total number of orders: 1834\n"
          ]
        }
      ]
    },
    {
      "cell_type": "code",
      "source": [
        "#Step 15: Average revenue per order\n",
        "avg_revenue_per_order = total_revenue / total_orders\n",
        "print(f\"Average revenue per order: ${avg_revenue_per_order:.2f}\")\n"
      ],
      "metadata": {
        "colab": {
          "base_uri": "https://localhost:8080/"
        },
        "id": "8Gmzro6koWMg",
        "outputId": "35aaa554-3719-46c1-a5f1-f2c0922fae3f"
      },
      "execution_count": 16,
      "outputs": [
        {
          "output_type": "stream",
          "name": "stdout",
          "text": [
            "Average revenue per order: $21.39\n"
          ]
        }
      ]
    },
    {
      "cell_type": "code",
      "source": [
        "#Step 16: Number of different items sold\n",
        "num_different_items = chipo['item_name'].nunique()\n",
        "print(f\"Number of different items sold: {num_different_items}\")\n"
      ],
      "metadata": {
        "colab": {
          "base_uri": "https://localhost:8080/"
        },
        "id": "x8reIgRNoXws",
        "outputId": "3ae16dc3-866c-4040-f0fe-213efd0af234"
      },
      "execution_count": 17,
      "outputs": [
        {
          "output_type": "stream",
          "name": "stdout",
          "text": [
            "Number of different items sold: 50\n"
          ]
        }
      ]
    },
    {
      "cell_type": "markdown",
      "source": [
        "#Question - 6"
      ],
      "metadata": {
        "id": "FKCLQwhho3Sa"
      }
    },
    {
      "cell_type": "code",
      "source": [
        "import matplotlib.pyplot as plt\n",
        "import pandas as pd\n"
      ],
      "metadata": {
        "id": "P-YouMACoZGo"
      },
      "execution_count": 18,
      "outputs": []
    },
    {
      "cell_type": "code",
      "source": [
        "# Example data for marriages and divorces per capita\n",
        "years = [1867, 1900, 1950, 2000, 2014]\n",
        "marriages = [9.8, 10.2, 11.5, 8.2, 6.9]  # Marriages per capita\n",
        "divorces = [0.3, 0.5, 2.5, 4.0, 3.2]      # Divorces per capita\n"
      ],
      "metadata": {
        "id": "UsgXrh3Ho6i2"
      },
      "execution_count": 19,
      "outputs": []
    },
    {
      "cell_type": "code",
      "source": [
        "# Create the plot\n",
        "plt.figure(figsize=(10, 6))\n",
        "plt.plot(years, marriages, label='Marriages per Capita', marker='o')\n",
        "plt.plot(years, divorces, label='Divorces per Capita', marker='o')\n",
        "\n",
        "# Add labels, title, and legend\n",
        "plt.xlabel('Year')\n",
        "plt.ylabel('Per Capita')\n",
        "plt.title('Marriages and Divorces per Capita in the U.S. (1867-2014)')\n",
        "plt.legend()\n",
        "\n",
        "# Display the plot\n",
        "plt.grid()\n",
        "plt.show()\n"
      ],
      "metadata": {
        "colab": {
          "base_uri": "https://localhost:8080/",
          "height": 534
        },
        "id": "ZF3_6B0fo7Za",
        "outputId": "cc3b4cb4-f8e1-4b79-9846-d454f0def544"
      },
      "execution_count": 20,
      "outputs": [
        {
          "output_type": "display_data",
          "data": {
            "text/plain": [
              "<Figure size 1000x600 with 1 Axes>"
            ],
            "image/png": "[encoded data removed]"
          },
          "metadata": {}
        }
      ]
    },
    {
      "cell_type": "markdown",
      "source": [
        "#Question 7: Vertical Bar Chart"
      ],
      "metadata": {
        "id": "JWh9x62ApJRl"
      }
    },
    {
      "cell_type": "code",
      "source": [
        "import matplotlib.pyplot as plt\n"
      ],
      "metadata": {
        "id": "QuLsu0y_o8eY"
      },
      "execution_count": 21,
      "outputs": []
    },
    {
      "cell_type": "code",
      "source": [
        "# Data for the bar chart\n",
        "years = [1900, 1950, 2000]\n",
        "marriages = [10.2, 11.5, 8.2]  # Marriages per capita\n",
        "divorces = [0.5, 2.5, 4.0]     # Divorces per capita\n"
      ],
      "metadata": {
        "id": "H34oPKSmpX_9"
      },
      "execution_count": 22,
      "outputs": []
    },
    {
      "cell_type": "code",
      "source": [
        "import numpy as np\n",
        "\n",
        "bar_width = 0.35\n",
        "positions = np.arange(len(years))\n",
        "\n",
        "# Plot the bars\n",
        "plt.figure(figsize=(10, 6))\n",
        "plt.bar(positions - bar_width / 2, marriages, bar_width, label='Marriages per Capita')\n",
        "plt.bar(positions + bar_width / 2, divorces, bar_width, label='Divorces per Capita')\n",
        "\n",
        "#labels, title, and legend\n",
        "plt.xlabel('Year')\n",
        "plt.ylabel('Per Capita')\n",
        "plt.title('Comparison of Marriages and Divorces per Capita in the U.S.')\n",
        "plt.xticks(positions, years)\n",
        "plt.legend()\n",
        "\n",
        "# Display the chart\n",
        "plt.grid(axis='y', linestyle='--', alpha=0.7)\n",
        "plt.show()\n"
      ],
      "metadata": {
        "colab": {
          "base_uri": "https://localhost:8080/",
          "height": 540
        },
        "id": "Llrz9biSpZN4",
        "outputId": "73431a80-f9a8-4bdf-e9cc-80532161ebe7"
      },
      "execution_count": 23,
      "outputs": [
        {
          "output_type": "display_data",
          "data": {
            "text/plain": [
              "<Figure size 1000x600 with 1 Axes>"
            ],
            "image/png": "[encoded data removed]"
          },
          "metadata": {}
        }
      ]
    },
    {
      "cell_type": "markdown",
      "source": [
        "#Question 8: Horizontal Bar Chart"
      ],
      "metadata": {
        "id": "76pcO6QjppNo"
      }
    },
    {
      "cell_type": "code",
      "source": [
        "import matplotlib.pyplot as plt\n"
      ],
      "metadata": {
        "id": "AFsGypT3pa8z"
      },
      "execution_count": 24,
      "outputs": []
    },
    {
      "cell_type": "code",
      "source": [
        "# Data for the horizontal bar chart\n",
        "actors = [\"Arnold Schwarzenegger\", \"Sylvester Stallone\", \"Bruce Willis\", \"Clint Eastwood\", \"Tom Cruise\"]\n",
        "kill_counts = [120, 95, 85, 80, 60]\n"
      ],
      "metadata": {
        "id": "kYSXcGd1pvcF"
      },
      "execution_count": 25,
      "outputs": []
    },
    {
      "cell_type": "code",
      "source": [
        "# Data for the horizontal bar chart\n",
        "actors = [\"Arnold Schwarzenegger\", \"Sylvester Stallone\", \"Bruce Willis\", \"Clint Eastwood\", \"Tom Cruise\"]\n",
        "kill_counts = [120, 95, 85, 80, 60]\n"
      ],
      "metadata": {
        "id": "ARBFhiATpydz"
      },
      "execution_count": 26,
      "outputs": []
    },
    {
      "cell_type": "code",
      "source": [
        "# Sort actors and kill counts based on kill counts\n",
        "sorted_indices = sorted(range(len(kill_counts)), key=lambda x: kill_counts[x], reverse=True)\n",
        "actors = [actors[i] for i in sorted_indices]\n",
        "kill_counts = [kill_counts[i] for i in sorted_indices]\n"
      ],
      "metadata": {
        "id": "2Qndo3sspz8r"
      },
      "execution_count": 27,
      "outputs": []
    },
    {
      "cell_type": "code",
      "source": [
        "#The horizontal bar chart\n",
        "plt.figure(figsize=(10, 6))\n",
        "plt.barh(actors, kill_counts, color='skyblue')\n",
        "\n",
        "#labels and title\n",
        "plt.xlabel('Kill Count')\n",
        "plt.ylabel('Actor')\n",
        "plt.title('Deadliest Actors in Hollywood')\n",
        "plt.grid(axis='x', linestyle='--', alpha=0.7)\n",
        "\n",
        "for index, value in enumerate(kill_counts):\n",
        "    plt.text(value + 1, index, str(value), va='center')\n",
        "\n",
        "# Display the chart\n",
        "plt.tight_layout()\n",
        "plt.show()\n"
      ],
      "metadata": {
        "colab": {
          "base_uri": "https://localhost:8080/",
          "height": 497
        },
        "id": "RsstOmK_p1QP",
        "outputId": "4f602e7f-ae0e-4a7a-d582-9a8e5036c2a2"
      },
      "execution_count": 28,
      "outputs": [
        {
          "output_type": "display_data",
          "data": {
            "text/plain": [
              "<Figure size 1000x600 with 1 Axes>"
            ],
            "image/png": "[encoded data removed]"
          },
          "metadata": {}
        }
      ]
    },
    {
      "cell_type": "markdown",
      "source": [
        "#Question 9: Pie Chart"
      ],
      "metadata": {
        "id": "CZ-JTZvEqF4a"
      }
    },
    {
      "cell_type": "code",
      "source": [
        "import matplotlib.pyplot as plt\n"
      ],
      "metadata": {
        "id": "-GUmcm7up2u2"
      },
      "execution_count": 29,
      "outputs": []
    },
    {
      "cell_type": "code",
      "source": [
        "# Data for the pie chart\n",
        "labels = ['Assassinated', 'Natural Causes', 'Other']\n",
        "sizes = [70, 50, 30]  # Number of emperors in each category\n"
      ],
      "metadata": {
        "id": "PhlxmwhXqJFH"
      },
      "execution_count": 30,
      "outputs": []
    },
    {
      "cell_type": "code",
      "source": [
        "#the pie chart\n",
        "plt.figure(figsize=(8, 8))\n",
        "plt.pie(\n",
        "    sizes,\n",
        "    labels=labels,\n",
        "    autopct='%1.1f%%',\n",
        "    startangle=90,\n",
        "    colors=['red', 'green', 'blue'],\n",
        "    wedgeprops={'edgecolor': 'black'}\n",
        ")\n",
        "\n",
        "#title\n",
        "plt.title('Fraction of Roman Emperors Assassinated')\n",
        "plt.tight_layout()\n",
        "\n",
        "# Display the chart\n",
        "plt.show()\n"
      ],
      "metadata": {
        "colab": {
          "base_uri": "https://localhost:8080/",
          "height": 779
        },
        "id": "Bb8YUOw3qKLy",
        "outputId": "0f9d105a-550c-4c0e-a4f3-0a1b74838954"
      },
      "execution_count": 31,
      "outputs": [
        {
          "output_type": "display_data",
          "data": {
            "text/plain": [
              "<Figure size 800x800 with 1 Axes>"
            ],
            "image/png": "[encoded data removed]"
          },
          "metadata": {}
        }
      ]
    },
    {
      "cell_type": "markdown",
      "source": [
        "#Question 10: Scatter Plot"
      ],
      "metadata": {
        "id": "bKbOuGV3qYOX"
      }
    },
    {
      "cell_type": "code",
      "source": [
        "import matplotlib.pyplot as plt\n",
        "import numpy as np\n"
      ],
      "metadata": {
        "id": "fGgKllUJqLoc"
      },
      "execution_count": 32,
      "outputs": []
    },
    {
      "cell_type": "code",
      "source": [
        "# Data for the scatter plot\n",
        "years = np.arange(2000, 2010)\n",
        "arcade_revenue = [1.5, 1.7, 1.6, 1.8, 2.0, 2.1, 2.0, 1.9, 1.8, 1.7]\n",
        "cs_phds = [200, 210, 220, 230, 250, 270, 260, 240, 230, 220]\n"
      ],
      "metadata": {
        "id": "I2u05SSFqcwt"
      },
      "execution_count": 33,
      "outputs": []
    },
    {
      "cell_type": "code",
      "source": [
        "#the scatter plot\n",
        "plt.figure(figsize=(10, 6))\n",
        "scatter = plt.scatter(cs_phds, arcade_revenue, c=years, cmap='viridis', edgecolor='black')\n",
        "\n",
        "#labels, title, and colorbar\n",
        "plt.xlabel('Number of CS PhDs Awarded')\n",
        "plt.ylabel('Arcade Revenue (in billions)')\n",
        "plt.title('Arcade Revenue vs. CS PhDs Awarded (2000-2009)')\n",
        "plt.colorbar(scatter, label='Year')\n",
        "\n",
        "# Display the plot\n",
        "plt.grid()\n",
        "plt.show()\n"
      ],
      "metadata": {
        "colab": {
          "base_uri": "https://localhost:8080/",
          "height": 556
        },
        "id": "5t_280xZqf2b",
        "outputId": "9d4e6ee3-0dd9-4631-a55f-f69872d28b6f"
      },
      "execution_count": 34,
      "outputs": [
        {
          "output_type": "display_data",
          "data": {
            "text/plain": [
              "<Figure size 1000x600 with 2 Axes>"
            ],
            "image/png": "[encoded data removed]"
          },
          "metadata": {}
        }
      ]
    },
    {
      "cell_type": "code",
      "source": [],
      "metadata": {
        "id": "F8c4bPltqh22"
      },
      "execution_count": null,
      "outputs": []
    }
  ]
}